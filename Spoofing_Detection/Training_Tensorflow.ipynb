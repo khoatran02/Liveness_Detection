{
  "cells": [
    {
      "cell_type": "code",
      "execution_count": null,
      "metadata": {
        "id": "esw_YZov13Ty"
      },
      "outputs": [],
      "source": [
        "import tensorflow as tf\n",
        "from tensorflow.keras.preprocessing.image import ImageDataGenerator\n",
        "from tensorflow.keras.applications.mobilenet_v2 import MobileNetV2, preprocess_input\n",
        "from keras.layers import Dense, Dropout, Input, Flatten, Model\n",
        "from keras.optimizers import Adam"
      ]
    },
    {
      "cell_type": "code",
      "execution_count": null,
      "metadata": {
        "id": "Mi13TaLXb1mX"
      },
      "outputs": [],
      "source": [
        "# Set the paths to your dataset\n",
        "base_dir = 'face_croped/'\n",
        "train_dir = base_dir + 'train/'\n",
        "validation_dir = base_dir + 'val/'\n",
        "test_dir = base_dir + 'test/'"
      ]
    },
    {
      "cell_type": "code",
      "execution_count": null,
      "metadata": {
        "id": "bDfz0hQEb1mY"
      },
      "outputs": [],
      "source": [
        "# Set some parameters\n",
        "batch_size = 32\n",
        "img_size = (224, 224)"
      ]
    },
    {
      "cell_type": "code",
      "execution_count": null,
      "metadata": {
        "id": "wT72quvvb1mY"
      },
      "outputs": [],
      "source": [
        "# Data generators with preprocessing\n",
        "train_datagen = ImageDataGenerator(preprocessing_function=preprocess_input,\n",
        "                                   rotation_range=40,\n",
        "                                   width_shift_range=0.2,\n",
        "                                   height_shift_range=0.2,\n",
        "                                   shear_range=0.2,\n",
        "                                   zoom_range=0.2,\n",
        "                                   horizontal_flip=True,\n",
        "                                   fill_mode='nearest')"
      ]
    },
    {
      "cell_type": "code",
      "execution_count": null,
      "metadata": {
        "id": "qGzD2tmVb1mZ"
      },
      "outputs": [],
      "source": [
        "val_datagen = ImageDataGenerator(preprocessing_function=preprocess_input)\n",
        "test_datagen = ImageDataGenerator(preprocessing_function=preprocess_input)"
      ]
    },
    {
      "cell_type": "code",
      "execution_count": null,
      "metadata": {
        "colab": {
          "base_uri": "https://localhost:8080/"
        },
        "id": "2zwj-ow-b1mZ",
        "outputId": "8e255efa-821a-4b7b-ae30-1790d4501b50"
      },
      "outputs": [
        {
          "name": "stdout",
          "output_type": "stream",
          "text": [
            "Found 65928 images belonging to 2 classes.\n",
            "Found 18837 images belonging to 2 classes.\n",
            "Found 9419 images belonging to 2 classes.\n"
          ]
        }
      ],
      "source": [
        "# Flow training images in batches\n",
        "train_generator = train_datagen.flow_from_directory(train_dir,\n",
        "                                                    target_size=img_size,\n",
        "                                                    batch_size=batch_size,\n",
        "                                                    class_mode='binary')\n",
        "\n",
        "# Flow validation images in batches\n",
        "validation_generator = val_datagen.flow_from_directory(validation_dir,\n",
        "                                                       target_size=img_size,\n",
        "                                                       batch_size=batch_size,\n",
        "                                                       class_mode='binary')\n",
        "\n",
        "# Flow test images in batches\n",
        "test_generator = test_datagen.flow_from_directory(test_dir,\n",
        "                                                  target_size=img_size,\n",
        "                                                  batch_size=batch_size,\n",
        "                                                  class_mode='binary')\n"
      ]
    },
    {
      "cell_type": "code",
      "execution_count": null,
      "metadata": {
        "colab": {
          "base_uri": "https://localhost:8080/"
        },
        "id": "l0lUNLzRb1ma",
        "outputId": "e229b9e0-a688-4069-8fee-b49b397a4889"
      },
      "outputs": [
        {
          "name": "stdout",
          "output_type": "stream",
          "text": [
            "Downloading data from https://storage.googleapis.com/tensorflow/keras-applications/mobilenet_v2/mobilenet_v2_weights_tf_dim_ordering_tf_kernels_1.0_224_no_top.h5\n",
            "9406464/9406464 [==============================] - 1s 0us/step\n"
          ]
        }
      ],
      "source": [
        "mobilenet = MobileNetV2(weights=\"imagenet\",include_top=False,input_tensor=Input(shape=(224,224,3)))\n",
        "mobilenet.trainable = False"
      ]
    },
    {
      "cell_type": "code",
      "execution_count": null,
      "metadata": {
        "id": "X5RNjm2fb1mb"
      },
      "outputs": [],
      "source": [
        "output = Flatten()(mobilenet.output)\n",
        "output = Dropout(0.3)(output)\n",
        "output = Dense(units = 8,activation='relu')(output)\n",
        "prediction = Dense(1,activation='sigmoid')(output)"
      ]
    },
    {
      "cell_type": "code",
      "execution_count": null,
      "metadata": {
        "id": "8O3cxAZHb1mb"
      },
      "outputs": [],
      "source": [
        "model = Model(inputs = mobilenet.input,outputs = prediction)\n",
        "\n",
        "# Compile the model\n",
        "# tell the model what cost and optimization method to use\n",
        "model.compile(\n",
        "  loss='binary_crossentropy',\n",
        "  optimizer=Adam(\n",
        "    learning_rate=0.000001,\n",
        "    beta_1=0.9,\n",
        "    beta_2=0.999,\n",
        "    epsilon=1e-07\n",
        "),\n",
        "  metrics=['accuracy']\n",
        ")"
      ]
    },
    {
      "cell_type": "code",
      "execution_count": null,
      "metadata": {
        "colab": {
          "base_uri": "https://localhost:8080/"
        },
        "id": "gDJIhAPssYO8",
        "outputId": "e9b8764a-afe4-4dd1-feeb-5dfde90c3c38"
      },
      "outputs": [
        {
          "name": "stdout",
          "output_type": "stream",
          "text": [
            "Epoch 1/150\n",
            "126/126 [==============================] - 4s 14ms/step - loss: 0.4507 - accuracy: 0.1369 - val_loss: 0.4023 - val_accuracy: 0.1964\n",
            "Epoch 2/150\n",
            "126/126 [==============================] - 1s 8ms/step - loss: 0.4109 - accuracy: 0.2019 - val_loss: 0.3733 - val_accuracy: 0.3304\n",
            "Epoch 3/150\n",
            "126/126 [==============================] - 1s 8ms/step - loss: 0.3647 - accuracy: 0.3289 - val_loss: 0.3179 - val_accuracy: 0.4509\n",
            "Epoch 4/150\n",
            "126/126 [==============================] - 1s 8ms/step - loss: 0.3071 - accuracy: 0.4871 - val_loss: 0.2544 - val_accuracy: 0.6339\n",
            "Epoch 5/150\n",
            "126/126 [==============================] - 1s 8ms/step - loss: 0.2568 - accuracy: 0.6314 - val_loss: 0.2238 - val_accuracy: 0.7277\n",
            "Epoch 6/150\n",
            "126/126 [==============================] - 1s 8ms/step - loss: 0.2109 - accuracy: 0.7669 - val_loss: 0.1647 - val_accuracy: 0.8527\n",
            "Epoch 7/150\n",
            "126/126 [==============================] - 1s 8ms/step - loss: 0.1678 - accuracy: 0.8695 - val_loss: 0.1443 - val_accuracy: 0.8929\n",
            "Epoch 8/150\n",
            "126/126 [==============================] - 1s 8ms/step - loss: 0.1533 - accuracy: 0.8715 - val_loss: 0.1188 - val_accuracy: 0.9196\n",
            "Epoch 9/150\n",
            "126/126 [==============================] - 1s 8ms/step - loss: 0.1329 - accuracy: 0.8998 - val_loss: 0.1355 - val_accuracy: 0.8616\n",
            "Epoch 10/150\n",
            "126/126 [==============================] - 1s 8ms/step - loss: 0.1436 - accuracy: 0.8671 - val_loss: 0.0987 - val_accuracy: 0.8929\n",
            "Epoch 11/150\n",
            "126/126 [==============================] - 1s 8ms/step - loss: 0.1183 - accuracy: 0.9013 - val_loss: 0.0784 - val_accuracy: 0.9554\n",
            "Epoch 12/150\n",
            "126/126 [==============================] - 1s 8ms/step - loss: 0.0954 - accuracy: 0.9360 - val_loss: 0.0635 - val_accuracy: 0.9598\n",
            "Epoch 13/150\n",
            "126/126 [==============================] - 1s 8ms/step - loss: 0.0987 - accuracy: 0.9132 - val_loss: 0.0892 - val_accuracy: 0.9152\n",
            "Epoch 14/150\n",
            "126/126 [==============================] - 1s 8ms/step - loss: 0.0740 - accuracy: 0.9494 - val_loss: 0.0607 - val_accuracy: 0.9464\n",
            "Epoch 15/150\n",
            "126/126 [==============================] - 1s 8ms/step - loss: 0.0903 - accuracy: 0.9256 - val_loss: 0.0400 - val_accuracy: 0.9821\n",
            "Epoch 16/150\n",
            "126/126 [==============================] - 1s 8ms/step - loss: 0.0715 - accuracy: 0.9484 - val_loss: 0.0296 - val_accuracy: 0.9911\n",
            "Epoch 17/150\n",
            "126/126 [==============================] - 1s 8ms/step - loss: 0.0637 - accuracy: 0.9539 - val_loss: 0.0614 - val_accuracy: 0.9420\n",
            "Epoch 18/150\n",
            "126/126 [==============================] - 1s 8ms/step - loss: 0.0735 - accuracy: 0.9365 - val_loss: 0.0523 - val_accuracy: 0.9464\n",
            "Epoch 19/150\n",
            "126/126 [==============================] - 1s 8ms/step - loss: 0.0694 - accuracy: 0.9444 - val_loss: 0.0592 - val_accuracy: 0.9420\n",
            "Epoch 20/150\n",
            "126/126 [==============================] - 1s 8ms/step - loss: 0.0581 - accuracy: 0.9539 - val_loss: 0.0423 - val_accuracy: 0.9688\n",
            "Epoch 21/150\n",
            "126/126 [==============================] - 1s 8ms/step - loss: 0.0637 - accuracy: 0.9499 - val_loss: 0.0593 - val_accuracy: 0.9554\n",
            "Epoch 22/150\n",
            "126/126 [==============================] - 1s 8ms/step - loss: 0.0556 - accuracy: 0.9568 - val_loss: 0.0464 - val_accuracy: 0.9509\n",
            "Epoch 23/150\n",
            "126/126 [==============================] - 1s 8ms/step - loss: 0.0534 - accuracy: 0.9578 - val_loss: 0.0541 - val_accuracy: 0.9554\n",
            "Epoch 24/150\n",
            "126/126 [==============================] - 1s 8ms/step - loss: 0.0461 - accuracy: 0.9643 - val_loss: 0.0250 - val_accuracy: 0.9821\n",
            "Epoch 25/150\n",
            "126/126 [==============================] - 1s 8ms/step - loss: 0.0507 - accuracy: 0.9638 - val_loss: 0.0269 - val_accuracy: 0.9777\n",
            "Epoch 26/150\n",
            "126/126 [==============================] - 1s 8ms/step - loss: 0.0474 - accuracy: 0.9623 - val_loss: 0.0225 - val_accuracy: 0.9821\n",
            "Epoch 27/150\n",
            "126/126 [==============================] - 1s 8ms/step - loss: 0.0739 - accuracy: 0.9325 - val_loss: 0.1094 - val_accuracy: 0.8884\n",
            "Epoch 28/150\n",
            "126/126 [==============================] - 1s 8ms/step - loss: 0.0736 - accuracy: 0.9330 - val_loss: 0.0299 - val_accuracy: 0.9732\n",
            "Epoch 29/150\n",
            "126/126 [==============================] - 1s 8ms/step - loss: 0.0410 - accuracy: 0.9692 - val_loss: 0.0220 - val_accuracy: 0.9777\n",
            "Epoch 30/150\n",
            "126/126 [==============================] - 1s 8ms/step - loss: 0.0356 - accuracy: 0.9727 - val_loss: 0.0256 - val_accuracy: 0.9777\n",
            "Epoch 31/150\n",
            "126/126 [==============================] - 1s 8ms/step - loss: 0.0406 - accuracy: 0.9702 - val_loss: 0.0320 - val_accuracy: 0.9688\n",
            "Epoch 32/150\n",
            "126/126 [==============================] - 1s 8ms/step - loss: 0.0326 - accuracy: 0.9747 - val_loss: 0.0330 - val_accuracy: 0.9643\n",
            "Epoch 33/150\n",
            "126/126 [==============================] - 1s 8ms/step - loss: 0.0356 - accuracy: 0.9752 - val_loss: 0.0383 - val_accuracy: 0.9598\n",
            "Epoch 34/150\n",
            "126/126 [==============================] - 1s 8ms/step - loss: 0.0340 - accuracy: 0.9762 - val_loss: 0.0406 - val_accuracy: 0.9643\n",
            "Epoch 35/150\n",
            "126/126 [==============================] - 1s 8ms/step - loss: 0.0333 - accuracy: 0.9747 - val_loss: 0.0256 - val_accuracy: 0.9643\n",
            "Epoch 36/150\n",
            "126/126 [==============================] - 1s 8ms/step - loss: 0.0295 - accuracy: 0.9812 - val_loss: 0.0202 - val_accuracy: 0.9777\n",
            "Epoch 37/150\n",
            "126/126 [==============================] - 1s 8ms/step - loss: 0.0264 - accuracy: 0.9836 - val_loss: 0.0256 - val_accuracy: 0.9688\n",
            "Epoch 38/150\n",
            "126/126 [==============================] - 1s 8ms/step - loss: 0.0279 - accuracy: 0.9792 - val_loss: 0.0179 - val_accuracy: 0.9866\n",
            "Epoch 39/150\n",
            "126/126 [==============================] - 1s 8ms/step - loss: 0.0259 - accuracy: 0.9812 - val_loss: 0.0261 - val_accuracy: 0.9821\n",
            "Epoch 40/150\n",
            "126/126 [==============================] - 1s 8ms/step - loss: 0.0214 - accuracy: 0.9861 - val_loss: 0.0112 - val_accuracy: 0.9866\n",
            "Epoch 41/150\n",
            "126/126 [==============================] - 1s 8ms/step - loss: 0.0287 - accuracy: 0.9792 - val_loss: 0.0276 - val_accuracy: 0.9643\n",
            "Epoch 42/150\n",
            "126/126 [==============================] - 1s 8ms/step - loss: 0.0353 - accuracy: 0.9727 - val_loss: 0.0175 - val_accuracy: 0.9866\n",
            "Epoch 43/150\n",
            "126/126 [==============================] - 1s 8ms/step - loss: 0.0243 - accuracy: 0.9826 - val_loss: 0.0143 - val_accuracy: 0.9866\n",
            "Epoch 44/150\n",
            "126/126 [==============================] - 1s 8ms/step - loss: 0.0284 - accuracy: 0.9737 - val_loss: 0.0213 - val_accuracy: 0.9821\n",
            "Epoch 45/150\n",
            "126/126 [==============================] - 1s 9ms/step - loss: 0.0229 - accuracy: 0.9826 - val_loss: 0.0092 - val_accuracy: 0.9911\n",
            "Epoch 46/150\n",
            "126/126 [==============================] - 1s 9ms/step - loss: 0.0226 - accuracy: 0.9802 - val_loss: 0.0209 - val_accuracy: 0.9821\n",
            "Epoch 47/150\n",
            "126/126 [==============================] - 1s 9ms/step - loss: 0.0245 - accuracy: 0.9757 - val_loss: 0.0290 - val_accuracy: 0.9732\n",
            "Epoch 48/150\n",
            "126/126 [==============================] - 1s 8ms/step - loss: 0.0439 - accuracy: 0.9623 - val_loss: 0.0419 - val_accuracy: 0.9509\n",
            "Epoch 49/150\n",
            "126/126 [==============================] - 1s 8ms/step - loss: 0.0312 - accuracy: 0.9752 - val_loss: 0.0247 - val_accuracy: 0.9732\n",
            "Epoch 50/150\n",
            "126/126 [==============================] - 1s 8ms/step - loss: 0.0245 - accuracy: 0.9816 - val_loss: 0.0234 - val_accuracy: 0.9732\n",
            "Epoch 51/150\n",
            "126/126 [==============================] - 1s 8ms/step - loss: 0.0156 - accuracy: 0.9896 - val_loss: 0.0207 - val_accuracy: 0.9866\n",
            "Epoch 52/150\n",
            "126/126 [==============================] - 1s 8ms/step - loss: 0.0170 - accuracy: 0.9886 - val_loss: 0.0126 - val_accuracy: 0.9911\n",
            "Epoch 53/150\n",
            "126/126 [==============================] - 1s 8ms/step - loss: 0.0251 - accuracy: 0.9812 - val_loss: 0.0135 - val_accuracy: 0.9821\n",
            "Epoch 54/150\n",
            "126/126 [==============================] - 1s 8ms/step - loss: 0.0142 - accuracy: 0.9881 - val_loss: 0.0109 - val_accuracy: 0.9955\n",
            "Epoch 55/150\n",
            "126/126 [==============================] - 1s 8ms/step - loss: 0.0194 - accuracy: 0.9856 - val_loss: 0.0269 - val_accuracy: 0.9688\n",
            "Epoch 56/150\n",
            "126/126 [==============================] - 1s 8ms/step - loss: 0.0177 - accuracy: 0.9876 - val_loss: 0.0229 - val_accuracy: 0.9821\n",
            "Epoch 57/150\n",
            "126/126 [==============================] - 1s 8ms/step - loss: 0.0069 - accuracy: 0.9980 - val_loss: 0.0235 - val_accuracy: 0.9821\n",
            "Epoch 58/150\n",
            "126/126 [==============================] - 1s 8ms/step - loss: 0.0096 - accuracy: 0.9936 - val_loss: 0.0500 - val_accuracy: 0.9643\n",
            "Epoch 59/150\n",
            "126/126 [==============================] - 1s 8ms/step - loss: 0.0163 - accuracy: 0.9871 - val_loss: 0.0214 - val_accuracy: 0.9777\n",
            "Epoch 60/150\n",
            "126/126 [==============================] - 1s 8ms/step - loss: 0.0121 - accuracy: 0.9926 - val_loss: 0.0466 - val_accuracy: 0.9598\n",
            "Epoch 61/150\n",
            "126/126 [==============================] - 1s 8ms/step - loss: 0.0210 - accuracy: 0.9841 - val_loss: 0.0308 - val_accuracy: 0.9732\n",
            "Epoch 62/150\n",
            "126/126 [==============================] - 1s 8ms/step - loss: 0.0150 - accuracy: 0.9916 - val_loss: 0.0357 - val_accuracy: 0.9598\n",
            "Epoch 63/150\n",
            "126/126 [==============================] - 1s 8ms/step - loss: 0.0156 - accuracy: 0.9891 - val_loss: 0.0182 - val_accuracy: 0.9821\n",
            "Epoch 64/150\n",
            "126/126 [==============================] - 1s 8ms/step - loss: 0.0280 - accuracy: 0.9782 - val_loss: 0.0378 - val_accuracy: 0.9554\n",
            "Epoch 65/150\n",
            "126/126 [==============================] - 1s 8ms/step - loss: 0.0179 - accuracy: 0.9846 - val_loss: 0.0569 - val_accuracy: 0.9509\n",
            "Epoch 66/150\n",
            "126/126 [==============================] - 1s 8ms/step - loss: 0.0299 - accuracy: 0.9762 - val_loss: 0.0146 - val_accuracy: 0.9911\n",
            "Epoch 67/150\n",
            "126/126 [==============================] - 1s 8ms/step - loss: 0.0144 - accuracy: 0.9881 - val_loss: 0.0164 - val_accuracy: 0.9866\n",
            "Epoch 68/150\n",
            "126/126 [==============================] - 1s 8ms/step - loss: 0.0101 - accuracy: 0.9936 - val_loss: 0.0182 - val_accuracy: 0.9821\n",
            "Epoch 69/150\n",
            "126/126 [==============================] - 1s 8ms/step - loss: 0.0118 - accuracy: 0.9906 - val_loss: 0.0120 - val_accuracy: 0.9911\n",
            "Epoch 70/150\n",
            "126/126 [==============================] - 1s 8ms/step - loss: 0.0101 - accuracy: 0.9940 - val_loss: 0.0376 - val_accuracy: 0.9732\n",
            "Epoch 71/150\n",
            "126/126 [==============================] - 1s 8ms/step - loss: 0.0235 - accuracy: 0.9812 - val_loss: 0.0109 - val_accuracy: 0.9911\n",
            "Epoch 72/150\n",
            "126/126 [==============================] - 1s 8ms/step - loss: 0.0126 - accuracy: 0.9871 - val_loss: 0.0279 - val_accuracy: 0.9777\n",
            "Epoch 73/150\n",
            "126/126 [==============================] - 1s 8ms/step - loss: 0.0151 - accuracy: 0.9881 - val_loss: 0.0151 - val_accuracy: 0.9866\n",
            "Epoch 74/150\n",
            "126/126 [==============================] - 1s 8ms/step - loss: 0.0153 - accuracy: 0.9901 - val_loss: 0.0145 - val_accuracy: 0.9866\n",
            "Epoch 75/150\n",
            "126/126 [==============================] - 1s 8ms/step - loss: 0.0155 - accuracy: 0.9886 - val_loss: 0.0149 - val_accuracy: 0.9821\n",
            "Epoch 76/150\n",
            "126/126 [==============================] - 1s 8ms/step - loss: 0.0118 - accuracy: 0.9901 - val_loss: 0.0221 - val_accuracy: 0.9777\n",
            "Epoch 77/150\n",
            "126/126 [==============================] - 1s 9ms/step - loss: 0.0057 - accuracy: 0.9970 - val_loss: 0.0135 - val_accuracy: 0.9821\n",
            "Epoch 78/150\n",
            "126/126 [==============================] - 1s 9ms/step - loss: 0.0058 - accuracy: 0.9965 - val_loss: 0.0311 - val_accuracy: 0.9777\n",
            "Epoch 79/150\n",
            "126/126 [==============================] - 1s 8ms/step - loss: 0.0142 - accuracy: 0.9896 - val_loss: 0.0922 - val_accuracy: 0.9420\n",
            "Epoch 80/150\n",
            "126/126 [==============================] - 1s 8ms/step - loss: 0.0264 - accuracy: 0.9727 - val_loss: 0.0244 - val_accuracy: 0.9777\n",
            "Epoch 81/150\n",
            "126/126 [==============================] - 1s 8ms/step - loss: 0.0105 - accuracy: 0.9911 - val_loss: 0.0173 - val_accuracy: 0.9866\n",
            "Epoch 82/150\n",
            "126/126 [==============================] - 1s 8ms/step - loss: 0.0058 - accuracy: 0.9965 - val_loss: 0.0159 - val_accuracy: 0.9866\n",
            "Epoch 83/150\n",
            "126/126 [==============================] - 1s 8ms/step - loss: 0.0037 - accuracy: 0.9980 - val_loss: 0.0157 - val_accuracy: 0.9866\n",
            "Epoch 84/150\n",
            "126/126 [==============================] - 1s 8ms/step - loss: 0.0056 - accuracy: 0.9955 - val_loss: 0.0140 - val_accuracy: 0.9777\n",
            "Epoch 85/150\n",
            "126/126 [==============================] - 1s 8ms/step - loss: 0.0176 - accuracy: 0.9876 - val_loss: 0.0205 - val_accuracy: 0.9777\n",
            "Epoch 86/150\n",
            "126/126 [==============================] - 1s 8ms/step - loss: 0.0171 - accuracy: 0.9861 - val_loss: 0.0139 - val_accuracy: 0.9866\n",
            "Epoch 87/150\n",
            "126/126 [==============================] - 1s 8ms/step - loss: 0.0064 - accuracy: 0.9950 - val_loss: 0.0176 - val_accuracy: 0.9821\n",
            "Epoch 88/150\n",
            "126/126 [==============================] - 1s 8ms/step - loss: 0.0048 - accuracy: 0.9980 - val_loss: 0.0185 - val_accuracy: 0.9821\n",
            "Epoch 89/150\n",
            "126/126 [==============================] - 1s 8ms/step - loss: 0.0075 - accuracy: 0.9950 - val_loss: 0.0269 - val_accuracy: 0.9777\n",
            "Epoch 90/150\n",
            "126/126 [==============================] - 1s 8ms/step - loss: 0.0135 - accuracy: 0.9876 - val_loss: 0.0052 - val_accuracy: 0.9955\n",
            "Epoch 91/150\n",
            "126/126 [==============================] - 1s 8ms/step - loss: 0.0045 - accuracy: 0.9965 - val_loss: 0.0096 - val_accuracy: 0.9911\n",
            "Epoch 92/150\n",
            "126/126 [==============================] - 1s 8ms/step - loss: 0.0033 - accuracy: 0.9985 - val_loss: 0.0163 - val_accuracy: 0.9866\n",
            "Epoch 93/150\n",
            "126/126 [==============================] - 1s 8ms/step - loss: 0.0023 - accuracy: 0.9995 - val_loss: 0.0121 - val_accuracy: 0.9866\n",
            "Epoch 94/150\n",
            "126/126 [==============================] - 1s 8ms/step - loss: 0.0029 - accuracy: 0.9990 - val_loss: 0.0297 - val_accuracy: 0.9777\n",
            "Epoch 95/150\n",
            "126/126 [==============================] - 1s 8ms/step - loss: 0.0171 - accuracy: 0.9871 - val_loss: 0.0122 - val_accuracy: 0.9911\n",
            "Epoch 96/150\n",
            "126/126 [==============================] - 1s 8ms/step - loss: 0.0307 - accuracy: 0.9752 - val_loss: 0.0324 - val_accuracy: 0.9688\n",
            "Epoch 97/150\n",
            "126/126 [==============================] - 1s 8ms/step - loss: 0.0314 - accuracy: 0.9673 - val_loss: 0.0138 - val_accuracy: 0.9866\n",
            "Epoch 98/150\n",
            "126/126 [==============================] - 1s 8ms/step - loss: 0.0116 - accuracy: 0.9911 - val_loss: 0.0363 - val_accuracy: 0.9777\n",
            "Epoch 99/150\n",
            "126/126 [==============================] - 1s 8ms/step - loss: 0.0124 - accuracy: 0.9901 - val_loss: 0.0099 - val_accuracy: 0.9866\n",
            "Epoch 100/150\n",
            "126/126 [==============================] - 1s 8ms/step - loss: 0.0038 - accuracy: 0.9980 - val_loss: 0.0113 - val_accuracy: 0.9911\n",
            "Epoch 101/150\n",
            "126/126 [==============================] - 1s 8ms/step - loss: 0.0030 - accuracy: 0.9985 - val_loss: 0.0066 - val_accuracy: 0.9911\n",
            "Epoch 102/150\n",
            "126/126 [==============================] - 1s 8ms/step - loss: 0.0047 - accuracy: 0.9980 - val_loss: 0.0052 - val_accuracy: 0.9911\n",
            "Epoch 103/150\n",
            "126/126 [==============================] - 1s 8ms/step - loss: 0.0140 - accuracy: 0.9881 - val_loss: 0.0381 - val_accuracy: 0.9777\n",
            "Epoch 104/150\n",
            "126/126 [==============================] - 1s 8ms/step - loss: 0.0118 - accuracy: 0.9926 - val_loss: 0.0070 - val_accuracy: 0.9955\n",
            "Epoch 105/150\n",
            "126/126 [==============================] - 1s 8ms/step - loss: 0.0141 - accuracy: 0.9891 - val_loss: 0.0166 - val_accuracy: 0.9866\n",
            "Epoch 106/150\n",
            "126/126 [==============================] - 1s 8ms/step - loss: 0.0101 - accuracy: 0.9936 - val_loss: 0.0016 - val_accuracy: 1.0000\n",
            "Epoch 107/150\n",
            "126/126 [==============================] - 1s 8ms/step - loss: 0.0039 - accuracy: 0.9965 - val_loss: 0.0057 - val_accuracy: 0.9911\n",
            "Epoch 108/150\n",
            "126/126 [==============================] - 1s 8ms/step - loss: 0.0105 - accuracy: 0.9911 - val_loss: 0.0341 - val_accuracy: 0.9732\n",
            "Epoch 109/150\n",
            "126/126 [==============================] - 1s 8ms/step - loss: 0.0099 - accuracy: 0.9916 - val_loss: 0.0229 - val_accuracy: 0.9866\n",
            "Epoch 110/150\n",
            "126/126 [==============================] - 1s 8ms/step - loss: 0.0052 - accuracy: 0.9970 - val_loss: 7.5093e-04 - val_accuracy: 1.0000\n",
            "Epoch 111/150\n",
            "126/126 [==============================] - 1s 8ms/step - loss: 0.0031 - accuracy: 0.9990 - val_loss: 0.0011 - val_accuracy: 1.0000\n",
            "Epoch 112/150\n",
            "126/126 [==============================] - 1s 8ms/step - loss: 0.0017 - accuracy: 0.9995 - val_loss: 6.8084e-04 - val_accuracy: 1.0000\n",
            "Epoch 113/150\n",
            "126/126 [==============================] - 1s 8ms/step - loss: 0.0014 - accuracy: 1.0000 - val_loss: 5.2102e-04 - val_accuracy: 1.0000\n",
            "Epoch 114/150\n",
            "126/126 [==============================] - 1s 8ms/step - loss: 0.0017 - accuracy: 1.0000 - val_loss: 4.6239e-04 - val_accuracy: 1.0000\n",
            "Epoch 115/150\n",
            "126/126 [==============================] - 1s 8ms/step - loss: 0.0014 - accuracy: 1.0000 - val_loss: 3.5531e-04 - val_accuracy: 1.0000\n",
            "Epoch 116/150\n",
            "126/126 [==============================] - 1s 8ms/step - loss: 0.0013 - accuracy: 1.0000 - val_loss: 3.2593e-04 - val_accuracy: 1.0000\n",
            "Epoch 117/150\n",
            "126/126 [==============================] - 1s 8ms/step - loss: 0.0015 - accuracy: 1.0000 - val_loss: 3.0725e-04 - val_accuracy: 1.0000\n",
            "Epoch 118/150\n",
            "126/126 [==============================] - 1s 8ms/step - loss: 0.0028 - accuracy: 0.9985 - val_loss: 0.0146 - val_accuracy: 0.9911\n",
            "Epoch 119/150\n",
            "126/126 [==============================] - 1s 8ms/step - loss: 0.0228 - accuracy: 0.9851 - val_loss: 0.0635 - val_accuracy: 0.9554\n",
            "Epoch 120/150\n",
            "126/126 [==============================] - 1s 8ms/step - loss: 0.0520 - accuracy: 0.9638 - val_loss: 0.0261 - val_accuracy: 0.9732\n",
            "Epoch 121/150\n",
            "126/126 [==============================] - 1s 8ms/step - loss: 0.0178 - accuracy: 0.9807 - val_loss: 0.0149 - val_accuracy: 0.9866\n",
            "Epoch 122/150\n",
            "126/126 [==============================] - 1s 8ms/step - loss: 0.0089 - accuracy: 0.9926 - val_loss: 0.0080 - val_accuracy: 0.9955\n",
            "Epoch 123/150\n",
            "126/126 [==============================] - 1s 8ms/step - loss: 0.0029 - accuracy: 0.9985 - val_loss: 0.0110 - val_accuracy: 0.9821\n",
            "Epoch 124/150\n",
            "126/126 [==============================] - 1s 8ms/step - loss: 0.0044 - accuracy: 0.9965 - val_loss: 0.0092 - val_accuracy: 0.9911\n",
            "Epoch 125/150\n",
            "126/126 [==============================] - 1s 8ms/step - loss: 0.0036 - accuracy: 0.9990 - val_loss: 0.0187 - val_accuracy: 0.9866\n",
            "Epoch 126/150\n",
            "126/126 [==============================] - 1s 8ms/step - loss: 0.0020 - accuracy: 0.9990 - val_loss: 0.0121 - val_accuracy: 0.9866\n",
            "Epoch 127/150\n",
            "126/126 [==============================] - 1s 8ms/step - loss: 0.0082 - accuracy: 0.9950 - val_loss: 0.0176 - val_accuracy: 0.9732\n",
            "Epoch 128/150\n",
            "126/126 [==============================] - 1s 8ms/step - loss: 0.0275 - accuracy: 0.9807 - val_loss: 0.0112 - val_accuracy: 0.9821\n",
            "Epoch 129/150\n",
            "126/126 [==============================] - 1s 8ms/step - loss: 0.0102 - accuracy: 0.9926 - val_loss: 0.0138 - val_accuracy: 0.9821\n",
            "Epoch 130/150\n",
            "126/126 [==============================] - 1s 8ms/step - loss: 0.0076 - accuracy: 0.9955 - val_loss: 0.0014 - val_accuracy: 1.0000\n",
            "Epoch 131/150\n",
            "126/126 [==============================] - 1s 8ms/step - loss: 0.0045 - accuracy: 0.9970 - val_loss: 0.0315 - val_accuracy: 0.9821\n",
            "Epoch 132/150\n",
            "126/126 [==============================] - 1s 8ms/step - loss: 0.0077 - accuracy: 0.9936 - val_loss: 0.0088 - val_accuracy: 0.9866\n",
            "Epoch 133/150\n",
            "126/126 [==============================] - 1s 8ms/step - loss: 0.0026 - accuracy: 0.9990 - val_loss: 0.0019 - val_accuracy: 1.0000\n",
            "Epoch 134/150\n",
            "126/126 [==============================] - 1s 8ms/step - loss: 0.0027 - accuracy: 0.9985 - val_loss: 0.0113 - val_accuracy: 0.9821\n",
            "Epoch 135/150\n",
            "126/126 [==============================] - 1s 8ms/step - loss: 0.0023 - accuracy: 0.9995 - val_loss: 0.0120 - val_accuracy: 0.9866\n",
            "Epoch 136/150\n",
            "126/126 [==============================] - 1s 8ms/step - loss: 0.0017 - accuracy: 0.9995 - val_loss: 0.0236 - val_accuracy: 0.9821\n",
            "Epoch 137/150\n",
            "126/126 [==============================] - 1s 8ms/step - loss: 0.0033 - accuracy: 0.9985 - val_loss: 0.0264 - val_accuracy: 0.9866\n",
            "Epoch 138/150\n",
            "126/126 [==============================] - 1s 8ms/step - loss: 0.0076 - accuracy: 0.9936 - val_loss: 0.0454 - val_accuracy: 0.9554\n",
            "Epoch 139/150\n",
            "126/126 [==============================] - 1s 8ms/step - loss: 0.0210 - accuracy: 0.9851 - val_loss: 0.0278 - val_accuracy: 0.9643\n",
            "Epoch 140/150\n",
            "126/126 [==============================] - 1s 8ms/step - loss: 0.0068 - accuracy: 0.9936 - val_loss: 0.0357 - val_accuracy: 0.9732\n",
            "Epoch 141/150\n",
            "126/126 [==============================] - 1s 8ms/step - loss: 0.0096 - accuracy: 0.9921 - val_loss: 0.0225 - val_accuracy: 0.9866\n",
            "Epoch 142/150\n",
            "126/126 [==============================] - 1s 8ms/step - loss: 0.0035 - accuracy: 0.9970 - val_loss: 0.0276 - val_accuracy: 0.9821\n",
            "Epoch 143/150\n",
            "126/126 [==============================] - 1s 8ms/step - loss: 0.0039 - accuracy: 0.9965 - val_loss: 0.0285 - val_accuracy: 0.9777\n",
            "Epoch 144/150\n",
            "126/126 [==============================] - 1s 8ms/step - loss: 0.0039 - accuracy: 0.9975 - val_loss: 0.0173 - val_accuracy: 0.9866\n",
            "Epoch 145/150\n",
            "126/126 [==============================] - 1s 8ms/step - loss: 0.0016 - accuracy: 1.0000 - val_loss: 0.0115 - val_accuracy: 0.9911\n",
            "Epoch 146/150\n",
            "126/126 [==============================] - 1s 8ms/step - loss: 0.0014 - accuracy: 0.9995 - val_loss: 0.0108 - val_accuracy: 0.9911\n",
            "Epoch 147/150\n",
            "126/126 [==============================] - 1s 8ms/step - loss: 0.0012 - accuracy: 1.0000 - val_loss: 0.0092 - val_accuracy: 0.9866\n",
            "Epoch 148/150\n",
            "126/126 [==============================] - 1s 8ms/step - loss: 9.1718e-04 - accuracy: 1.0000 - val_loss: 0.0105 - val_accuracy: 0.9911\n",
            "Epoch 149/150\n",
            "126/126 [==============================] - 1s 8ms/step - loss: 0.0027 - accuracy: 0.9990 - val_loss: 0.0029 - val_accuracy: 0.9955\n",
            "Epoch 150/150\n",
            "126/126 [==============================] - 1s 8ms/step - loss: 0.0086 - accuracy: 0.9940 - val_loss: 0.0268 - val_accuracy: 0.9821\n"
          ]
        }
      ],
      "source": [
        "# Train the model\n",
        "history = model.fit(\n",
        "    train_generator,\n",
        "    steps_per_epoch=train_generator.samples // batch_size,\n",
        "    epochs=100,  # You can adjust the number of epochs\n",
        "    validation_data=validation_generator,\n",
        "    validation_steps=validation_generator.samples // batch_size\n",
        ")"
      ]
    },
    {
      "cell_type": "code",
      "execution_count": null,
      "metadata": {
        "colab": {
          "base_uri": "https://localhost:8080/",
          "height": 279
        },
        "id": "L-x7M-Cz1nwp",
        "outputId": "17fd6b89-aef2-45df-a5bc-5fb2296f37f5"
      },
      "outputs": [
        {
          "data": {
            "image/png": "[encoded data removed]",
            "text/plain": [
              "<Figure size 432x288 with 1 Axes>"
            ]
          },
          "metadata": {
            "needs_background": "light"
          },
          "output_type": "display_data"
        }
      ],
      "source": [
        "epochs = list(range(150))\n",
        "acc = history.history['accuracy']\n",
        "val_acc = history.history['val_accuracy']\n",
        "\n",
        "plt.plot(epochs, acc, label='train acc')\n",
        "plt.plot(epochs, val_acc, label='val acc')\n",
        "plt.xlabel('epochs')\n",
        "plt.ylabel('acc')\n",
        "plt.legend()\n",
        "plt.show()"
      ]
    },
    {
      "cell_type": "code",
      "execution_count": null,
      "metadata": {
        "colab": {
          "base_uri": "https://localhost:8080/",
          "height": 279
        },
        "id": "JFE_14J-V0J6",
        "outputId": "17fd6b89-aef2-45df-a5bc-5fb2296f37f5"
      },
      "outputs": [
        {
          "data": {
            "image/png": "[encoded data removed]",
            "text/plain": [
              "<Figure size 432x288 with 1 Axes>"
            ]
          },
          "metadata": {
            "needs_background": "light"
          },
          "output_type": "display_data"
        }
      ],
      "source": [
        "epochs = list(range(150))\n",
        "acc = history.history['accuracy']\n",
        "val_acc = history.history['val_accuracy']\n",
        "\n",
        "plt.plot(epochs, acc, label='train acc')\n",
        "plt.plot(epochs, val_acc, label='val acc')\n",
        "plt.xlabel('epochs')\n",
        "plt.ylabel('acc')\n",
        "plt.legend()\n",
        "plt.show()"
      ]
    },
    {
      "cell_type": "code",
      "execution_count": null,
      "metadata": {
        "id": "y8oiv0tCb1md"
      },
      "outputs": [],
      "source": []
    },
    {
      "cell_type": "code",
      "execution_count": null,
      "metadata": {
        "id": "u8NPvXAzb1md"
      },
      "outputs": [],
      "source": []
    },
    {
      "cell_type": "code",
      "execution_count": null,
      "metadata": {
        "id": "kZr9ZsPgb1md"
      },
      "outputs": [],
      "source": []
    },
    {
      "cell_type": "code",
      "execution_count": null,
      "metadata": {
        "id": "2cGpjCsQb1md"
      },
      "outputs": [],
      "source": []
    }
  ],
  "metadata": {
    "accelerator": "GPU",
    "colab": {
      "gpuType": "T4",
      "machine_shape": "hm",
      "provenance": []
    },
    "kernelspec": {
      "display_name": "Python 3",
      "name": "python3"
    },
    "language_info": {
      "codemirror_mode": {
        "name": "ipython",
        "version": 3
      },
      "file_extension": ".py",
      "mimetype": "text/x-python",
      "name": "python",
      "nbconvert_exporter": "python",
      "pygments_lexer": "ipython3",
      "version": "3.9.18"
    }
  },
  "nbformat": 4,
  "nbformat_minor": 0
}
